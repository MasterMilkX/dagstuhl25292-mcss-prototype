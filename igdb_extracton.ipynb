{
 "cells": [
  {
   "cell_type": "markdown",
   "id": "fc86fa12",
   "metadata": {},
   "source": [
    "## IGDB Dataset Extraction\n",
    "Pulls game data information from the IGDB API"
   ]
  },
  {
   "cell_type": "markdown",
   "id": "1a364ece",
   "metadata": {},
   "source": [
    "#### Imports"
   ]
  },
  {
   "cell_type": "code",
   "execution_count": 1,
   "id": "4dc9b32d",
   "metadata": {},
   "outputs": [],
   "source": [
    "import requests\n",
    "import yaml\n",
    "import time\n",
    "import sys\n",
    "import os\n",
    "import json\n",
    "from PIL import Image\n",
    "from io import BytesIO\n",
    "from tqdm import tqdm\n",
    "import base64"
   ]
  },
  {
   "cell_type": "markdown",
   "id": "c734a9af",
   "metadata": {},
   "source": [
    "### Setup IGDB API Access and functions"
   ]
  },
  {
   "cell_type": "code",
   "execution_count": 2,
   "id": "db22909a",
   "metadata": {},
   "outputs": [],
   "source": [
    "# setup POST for authorization\n",
    "url = \"https://id.twitch.tv/oauth2/token\"\n",
    "\n",
    "config_yaml = \"twitch.yaml\"     # add your configuration file here\n",
    "# Load configuration from YAML file\n",
    "try:\n",
    "    with open(config_yaml, 'r') as file:\n",
    "        config = yaml.safe_load(file)\n",
    "except FileNotFoundError:\n",
    "    print(f\"Configuration file {config_yaml} not found.\")\n",
    "\n",
    "params = {\n",
    "    \"client_id\": config.get(\"CLIENT_ID\", \"your_client_id\"),\n",
    "    \"client_secret\": config.get(\"CLIENT_SECRET\", \"your_client_secret\"),\n",
    "    \"grant_type\": config.get(\"GRANT_TYPE\", \"client_credentials\")\n",
    "}\n"
   ]
  },
  {
   "cell_type": "code",
   "execution_count": 3,
   "id": "3849d2f7",
   "metadata": {},
   "outputs": [],
   "source": [
    "def getAccessToken():\n",
    "    if 'CLIENT_ID' not in config or 'CLIENT_SECRET' not in config:\n",
    "        print(\"Error: CLIENT_ID and CLIENT_SECRET must be set in the configuration file.\")\n",
    "        return None, 0\n",
    "\n",
    "    response = requests.post(url, params=params)\n",
    "    if response.status_code != 200:\n",
    "        print(f\"Error: {response.status_code} - {response.text}\")\n",
    "        return None, 0\n",
    "\n",
    "    # Parse the JSON response\n",
    "    data = response.json()\n",
    "    if 'access_token' not in data:\n",
    "        print(\"Error: 'access_token' not found in the response.\")\n",
    "        return None, 0\n",
    "\n",
    "    access_token = data['access_token']\n",
    "    timeout = data.get('expires_in', 0)\n",
    "    return access_token, timeout"
   ]
  },
  {
   "cell_type": "code",
   "execution_count": 4,
   "id": "23a218c6",
   "metadata": {},
   "outputs": [
    {
     "name": "stdout",
     "output_type": "stream",
     "text": [
      "Client ID: jzdf0pxiz7y7nqawzhfp4g4t37q8j9\n",
      "Access token: 0uoj7drnpf2egh54299km8f096d475\n",
      "Timeout: 5380715 seconds\n"
     ]
    }
   ],
   "source": [
    "# set up the access token\n",
    "acc_token, timeout = getAccessToken()\n",
    "print(f\"Client ID: {config['CLIENT_ID']}\")\n",
    "print(f\"Access token: {acc_token}\")\n",
    "print(f\"Timeout: {timeout} seconds\")"
   ]
  },
  {
   "cell_type": "markdown",
   "id": "4df5764b",
   "metadata": {},
   "source": [
    "### Get Top Games from IGDB website (Scraping)"
   ]
  },
  {
   "cell_type": "code",
   "execution_count": 5,
   "id": "92dd20e2",
   "metadata": {},
   "outputs": [],
   "source": [
    "def getGameGenres(genre_ids):\n",
    "    if not genre_ids:\n",
    "        return []\n",
    "    url = f\"https://api.igdb.com/v4/genres\"\n",
    "    headers = {\n",
    "        'Client-ID': config['CLIENT_ID'],\n",
    "        'Authorization': f'Bearer {acc_token}',\n",
    "        'Content-Type': 'application/json'\n",
    "    }\n",
    "    body = f\"fields name; where id = ({','.join(map(str, genre_ids))});\"\n",
    "    response = requests.post(url, headers=headers, data=body)\n",
    "    if response.status_code != 200:\n",
    "        print(f\"Error: {response.status_code} - {response.text}\")\n",
    "        return []\n",
    "    return [genre['name'] for genre in response.json()]\n",
    "\n",
    "\n",
    "def getGameKeywords(keyword_ids):\n",
    "    if not keyword_ids:\n",
    "        return []\n",
    "    \n",
    "    url = f\"https://api.igdb.com/v4/keywords\"\n",
    "    headers = {\n",
    "        'Client-ID': config['CLIENT_ID'],\n",
    "        'Authorization': f'Bearer {acc_token}',\n",
    "        'Content-Type': 'application/json'\n",
    "    }\n",
    "    body = f\"fields name; where id = ({','.join(map(str, keyword_ids))});\"\n",
    "    response = requests.post(url, headers=headers, data=body)\n",
    "    if response.status_code != 200:\n",
    "        print(f\"Error: {response.status_code} - {response.text}\")\n",
    "        return []\n",
    "    return [keyword['name'] for keyword in response.json()]"
   ]
  },
  {
   "cell_type": "code",
   "execution_count": 10,
   "id": "f679991e",
   "metadata": {},
   "outputs": [],
   "source": [
    "# get basic data for a game\n",
    "def getGameAPIDat(game_id):\n",
    "    search_games = requests.post(\n",
    "        \"https://api.igdb.com/v4/games/\",\n",
    "        headers={\n",
    "            \"Accept\": \"application/json\",\n",
    "            \"Client-ID\": config['CLIENT_ID'],\n",
    "            \"Authorization\": f\"Bearer {acc_token}\"\n",
    "        },\n",
    "        data=f'fields id, name, rating, genres, keywords, rating_count, summary; where id = {game_id};')\n",
    "\n",
    "    if search_games.status_code != 200:\n",
    "        print(f\"Error: {search_games.status_code} - {search_games.text}\")\n",
    "        return None\n",
    "    \n",
    "    if not search_games.json():\n",
    "        print(f\"No data found for game ID {game_id}\")\n",
    "        return None\n",
    "\n",
    "    game_dat = search_games.json()[0]\n",
    "\n",
    "    # convert ids to names for genres and keywords\n",
    "    game_dat['genres'] = getGameGenres(game_dat.get('genres', []))\n",
    "    game_dat['keywords'] = getGameKeywords(game_dat.get('keywords', []))\n",
    "\n",
    "    return game_dat\n",
    "\n",
    "# get the cover image for a game\n",
    "def getGameCover(game_id):\n",
    "    search_covers = requests.post(\n",
    "        \"https://api.igdb.com/v4/covers/\",\n",
    "        headers={\n",
    "            \"Accept\": \"application/json\",\n",
    "            \"Client-ID\": config['CLIENT_ID'],\n",
    "            \"Authorization\": f\"Bearer {acc_token}\"\n",
    "        },\n",
    "        data=f'fields image_id, url; where game = {game_id};')\n",
    "    \n",
    "    if search_covers.status_code != 200:\n",
    "        print(f\"Error: {search_covers.status_code} - {search_covers.text}\")\n",
    "        return None, None\n",
    "    \n",
    "    covers = search_covers.json()\n",
    "    if not covers:\n",
    "        #print(f\"No covers found for game ID {game_id}\")\n",
    "        return None, None\n",
    "\n",
    "    return covers[0]['image_id'], 'http:'+covers[0]['url'].replace('t_thumb', 't_cover_big')"
   ]
  },
  {
   "cell_type": "code",
   "execution_count": 11,
   "id": "c0d3fec7",
   "metadata": {},
   "outputs": [
    {
     "data": {
      "text/plain": [
       "{'id': 14593,\n",
       " 'genres': ['Platform', 'Adventure', 'Indie'],\n",
       " 'keywords': ['hand-drawn',\n",
       "  'metroidvania',\n",
       "  'shop keeper',\n",
       "  'skill-based',\n",
       "  'crowdfunding',\n",
       "  'the game awards - best debut indie game - nominee',\n",
       "  '2d',\n",
       "  'action-adventure',\n",
       "  'steam achievements',\n",
       "  'shielded enemies'],\n",
       " 'name': 'Hollow Knight',\n",
       " 'rating': 92.13928799478947,\n",
       " 'rating_count': 1711,\n",
       " 'summary': \"A 2D metroidvania with an emphasis on close combat and exploration in which the player enters the once-prosperous now-bleak insect kingdom of Hallownest, travels through its various districts, meets friendly inhabitants, fights hostile ones and uncovers the kingdom's history while improving their combat abilities and movement arsenal by fighting bosses and accessing out-of-the-way areas.\"}"
      ]
     },
     "execution_count": 11,
     "metadata": {},
     "output_type": "execute_result"
    }
   ],
   "source": [
    "getGameAPIDat(14593)"
   ]
  },
  {
   "cell_type": "code",
   "execution_count": 12,
   "id": "8b856fed",
   "metadata": {},
   "outputs": [
    {
     "name": "stdout",
     "output_type": "stream",
     "text": [
      "500\n"
     ]
    }
   ],
   "source": [
    "games_ids = [] \n",
    "num_games = 500\n",
    "\n",
    "for i in range(num_games // 500):\n",
    "    # use the popularity api\n",
    "    pop_games = requests.post(\n",
    "        \"https://api.igdb.com/v4/popularity_primitives/\",\n",
    "        headers={\n",
    "            \"Accept\": \"application/json\",\n",
    "            \"Client-ID\": config['CLIENT_ID'],\n",
    "            \"Authorization\": f\"Bearer {acc_token}\"\n",
    "        },\n",
    "        data=f'fields game_id; sort value desc; limit 500; offset {i*500}; where popularity_type = 1;')\n",
    "\n",
    "    if pop_games.status_code == 200:\n",
    "        games_ids.extend([game['game_id'] for game in pop_games.json()])\n",
    "    else:\n",
    "        print(f\"Error fetching popular games: {pop_games.status_code}\")\n",
    "\n",
    "print(len(games_ids))"
   ]
  },
  {
   "cell_type": "code",
   "execution_count": 13,
   "id": "8b29f16d",
   "metadata": {},
   "outputs": [
    {
     "name": "stderr",
     "output_type": "stream",
     "text": [
      "Processing game ID: 340038:  41%|████      | 204/500 [07:05<09:26,  1.91s/it]                           "
     ]
    },
    {
     "name": "stdout",
     "output_type": "stream",
     "text": [
      "No data found for game ID 340038\n"
     ]
    },
    {
     "name": "stderr",
     "output_type": "stream",
     "text": [
      "Processing game ID: 348971:  48%|████▊     | 242/500 [08:19<08:28,  1.97s/it]                     "
     ]
    },
    {
     "name": "stdout",
     "output_type": "stream",
     "text": [
      "No data found for game ID 348971\n"
     ]
    },
    {
     "name": "stderr",
     "output_type": "stream",
     "text": [
      "11137: Sea of Thieves: 100%|█████████▉| 498/500 [16:29<00:03,  1.99s/it]                                    \n"
     ]
    }
   ],
   "source": [
    "# get the game IDs and their data from the API\n",
    "games_full_dat = {}\n",
    "with tqdm(total=len(games_ids), desc=\"Processing games\") as pbar:\n",
    "    for game_id in games_ids:\n",
    "        \n",
    "        pbar.set_description(f\"Processing game ID: {game_id}\")\n",
    "        game_dat = getGameAPIDat(game_id)\n",
    "        game_cover = getGameCover(game_id)\n",
    "\n",
    "        time.sleep(0.25)  # to avoid hitting the rate limit\n",
    "\n",
    "        if game_dat is None:\n",
    "            pbar.set_description(f\"Skipping game ID {game_id} due to missing data\")\n",
    "            continue\n",
    "    \n",
    "        #print(game_dat)\n",
    "        pbar.set_description(f\"{game_id}: {game_dat['name']}\")\n",
    "\n",
    "        games_full_dat[game_id] = {\n",
    "            'name': game_dat['name'],\n",
    "            'rating': game_dat.get('rating', 0),\n",
    "            'genres': game_dat.get('genres', []),\n",
    "            'keywords': game_dat.get('keywords', []),\n",
    "            'rating_count': game_dat.get('rating_count', 0),\n",
    "            'summary': game_dat.get('summary', ''),\n",
    "            'cover_image_id': game_cover[0] if game_cover else None,\n",
    "            'cover_image_url': game_cover[1] if game_cover else None\n",
    "        }\n",
    "\n",
    "        pbar.update(1)\n",
    "\n",
    "\n",
    "# save the data to a JSON file\n",
    "with open(f'igdb_data_{num_games}.json', 'w') as f:\n",
    "    json.dump(games_full_dat, f, indent=4)"
   ]
  }
 ],
 "metadata": {
  "kernelspec": {
   "display_name": "mcss",
   "language": "python",
   "name": "python3"
  },
  "language_info": {
   "codemirror_mode": {
    "name": "ipython",
    "version": 3
   },
   "file_extension": ".py",
   "mimetype": "text/x-python",
   "name": "python",
   "nbconvert_exporter": "python",
   "pygments_lexer": "ipython3",
   "version": "3.12.10"
  }
 },
 "nbformat": 4,
 "nbformat_minor": 5
}
