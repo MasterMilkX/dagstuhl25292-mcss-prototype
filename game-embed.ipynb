{
 "cells": [
  {
   "cell_type": "code",
   "execution_count": 4,
   "id": "7eddaa4d",
   "metadata": {},
   "outputs": [],
   "source": [
    "import numpy as np\n",
    "import re\n",
    "import json\n",
    "\n",
    "from tensorflow.keras.models import Model\n",
    "from tensorflow.keras.layers import Input, Dense, Flatten, Conv2D, MaxPooling2D, Concatenate"
   ]
  },
  {
   "cell_type": "markdown",
   "id": "d991a582",
   "metadata": {},
   "source": [
    "### BOW (Bag of Words) simple text encoder"
   ]
  },
  {
   "cell_type": "code",
   "execution_count": 2,
   "id": "e191af21",
   "metadata": {},
   "outputs": [],
   "source": [
    "# create a bag of words from the json\n",
    "def create_bow_from_json(json_data):\n",
    "    bow = []\n",
    "    for game_id, game_data in json_data.items():\n",
    "        for key in ['name', 'summary', 'genres', 'keywords']:\n",
    "            if key in game_data:\n",
    "                text = game_data[key]\n",
    "                # remove special characters and split into words\n",
    "                words = re.findall(r'\\b\\w+\\b', text.lower())\n",
    "                for word in words:\n",
    "                    if word not in bow:\n",
    "                        bow.append(word)\n",
    "    return bow\n",
    "\n",
    "# create dataset for the autoencoder\n",
    "def create_dataset_from_bow(dat, bow):\n",
    "    X_dict = {}\n",
    "    for game_id, game_data in dat.items():\n",
    "        X = np.zeros(len(bow), dtype=np.float32)\n",
    "        for key in ['name', 'summary', 'genres', 'keywords']:\n",
    "            if key in game_data:\n",
    "                text = game_data[key]\n",
    "                words = re.findall(r'\\b\\w+\\b', text.lower())\n",
    "                for word in words:\n",
    "                    if word in bow:\n",
    "                        X[bow.index(word)] += 1\n",
    "        X_dict[game_id] = X\n",
    "    return X_dict\n"
   ]
  },
  {
   "cell_type": "code",
   "execution_count": null,
   "id": "5757bfce",
   "metadata": {},
   "outputs": [
    {
     "name": "stderr",
     "output_type": "stream",
     "text": [
      "2025-07-15 16:23:14.777911: I tensorflow/core/platform/cpu_feature_guard.cc:210] This TensorFlow binary is optimized to use available CPU instructions in performance-critical operations.\n",
      "To enable the following instructions: AVX2 FMA, in other operations, rebuild TensorFlow with the appropriate compiler flags.\n"
     ]
    },
    {
     "ename": "FileNotFoundError",
     "evalue": "[Errno 2] No such file or directory: 'igdb_data.json'",
     "output_type": "error",
     "traceback": [
      "\u001b[31m---------------------------------------------------------------------------\u001b[39m",
      "\u001b[31mFileNotFoundError\u001b[39m                         Traceback (most recent call last)",
      "\u001b[36mCell\u001b[39m\u001b[36m \u001b[39m\u001b[32mIn[3]\u001b[39m\u001b[32m, line 5\u001b[39m\n\u001b[32m      2\u001b[39m \u001b[38;5;28;01mfrom\u001b[39;00m\u001b[38;5;250m \u001b[39m\u001b[34;01mtensorflow\u001b[39;00m\u001b[34;01m.\u001b[39;00m\u001b[34;01mkeras\u001b[39;00m\u001b[34;01m.\u001b[39;00m\u001b[34;01mlayers\u001b[39;00m\u001b[38;5;250m \u001b[39m\u001b[38;5;28;01mimport\u001b[39;00m Input, Dense\n\u001b[32m      4\u001b[39m \u001b[38;5;66;03m# create a bag of words from the json file\u001b[39;00m\n\u001b[32m----> \u001b[39m\u001b[32m5\u001b[39m \u001b[38;5;28;01mwith\u001b[39;00m \u001b[38;5;28;43mopen\u001b[39;49m\u001b[43m(\u001b[49m\u001b[33;43m'\u001b[39;49m\u001b[33;43migdb_data.json\u001b[39;49m\u001b[33;43m'\u001b[39;49m\u001b[43m,\u001b[49m\u001b[43m \u001b[49m\u001b[33;43m'\u001b[39;49m\u001b[33;43mr\u001b[39;49m\u001b[33;43m'\u001b[39;49m\u001b[43m)\u001b[49m \u001b[38;5;28;01mas\u001b[39;00m f:\n\u001b[32m      6\u001b[39m     json_data = json.load(f)\n\u001b[32m      7\u001b[39m bow = create_bow_from_json(json_data)\n",
      "\u001b[36mFile \u001b[39m\u001b[32m~/Desktop/Research/Dagstuhl/2025/dagstuhl25292-mcss-prototype/mcss/lib/python3.12/site-packages/IPython/core/interactiveshell.py:343\u001b[39m, in \u001b[36m_modified_open\u001b[39m\u001b[34m(file, *args, **kwargs)\u001b[39m\n\u001b[32m    336\u001b[39m \u001b[38;5;28;01mif\u001b[39;00m file \u001b[38;5;129;01min\u001b[39;00m {\u001b[32m0\u001b[39m, \u001b[32m1\u001b[39m, \u001b[32m2\u001b[39m}:\n\u001b[32m    337\u001b[39m     \u001b[38;5;28;01mraise\u001b[39;00m \u001b[38;5;167;01mValueError\u001b[39;00m(\n\u001b[32m    338\u001b[39m         \u001b[33mf\u001b[39m\u001b[33m\"\u001b[39m\u001b[33mIPython won\u001b[39m\u001b[33m'\u001b[39m\u001b[33mt let you open fd=\u001b[39m\u001b[38;5;132;01m{\u001b[39;00mfile\u001b[38;5;132;01m}\u001b[39;00m\u001b[33m by default \u001b[39m\u001b[33m\"\u001b[39m\n\u001b[32m    339\u001b[39m         \u001b[33m\"\u001b[39m\u001b[33mas it is likely to crash IPython. If you know what you are doing, \u001b[39m\u001b[33m\"\u001b[39m\n\u001b[32m    340\u001b[39m         \u001b[33m\"\u001b[39m\u001b[33myou can use builtins\u001b[39m\u001b[33m'\u001b[39m\u001b[33m open.\u001b[39m\u001b[33m\"\u001b[39m\n\u001b[32m    341\u001b[39m     )\n\u001b[32m--> \u001b[39m\u001b[32m343\u001b[39m \u001b[38;5;28;01mreturn\u001b[39;00m \u001b[43mio_open\u001b[49m\u001b[43m(\u001b[49m\u001b[43mfile\u001b[49m\u001b[43m,\u001b[49m\u001b[43m \u001b[49m\u001b[43m*\u001b[49m\u001b[43margs\u001b[49m\u001b[43m,\u001b[49m\u001b[43m \u001b[49m\u001b[43m*\u001b[49m\u001b[43m*\u001b[49m\u001b[43mkwargs\u001b[49m\u001b[43m)\u001b[49m\n",
      "\u001b[31mFileNotFoundError\u001b[39m: [Errno 2] No such file or directory: 'igdb_data.json'"
     ]
    }
   ],
   "source": [
    "# create a bag of words from the json file\n",
    "with open('igdb_data.json', 'r') as f:\n",
    "    json_data = json.load(f)\n",
    "bow = create_bow_from_json(json_data)\n",
    "\n",
    "# create the dataset\n",
    "X = create_dataset_from_bow(bow)"
   ]
  },
  {
   "cell_type": "code",
   "execution_count": null,
   "id": "af77e2ff",
   "metadata": {},
   "outputs": [],
   "source": [
    "\n",
    "# build the autoencoder model\n",
    "input_dim = len(bow)  # number of unique words in the bag of words\n",
    "encoding_dim = 1024  # compress to 1024 dims\n",
    "\n",
    "input_bow = Input(shape=(input_dim,))\n",
    "encoded = Dense(encoding_dim, activation='relu')(input_bow)\n",
    "decoded = Dense(input_dim, activation='sigmoid')(encoded)\n",
    "\n",
    "autoencoder = Model(input_bow, decoded)\n",
    "encoder = Model(input_bow, encoded)\n",
    "\n",
    "autoencoder.compile(optimizer='adam', loss='binary_crossentropy')\n",
    "X_train = np.array(list(X.values()))\n",
    "autoencoder.fit(X_train, X_train, epochs=50, batch_size=256, shuffle=True)"
   ]
  },
  {
   "cell_type": "code",
   "execution_count": null,
   "id": "1c01d619",
   "metadata": {},
   "outputs": [],
   "source": [
    "# export the encoder model\n",
    "encoder.save('game_encoder.h5')\n",
    "\n",
    "# export the data to a JSON file\n",
    "vec_json = {}\n",
    "for game_id, game_data in json_data.items():\n",
    "    game_bow = X[game_id] # get the bag of words vector for the game\n",
    "    vec_json[game_id] = {}\n",
    "    vec_json[game_id]['name'] = game_data['name']\n",
    "    vec_json[game_id]['vector'] = encoder.predict(np.array([game_bow]))[0].tolist()\n",
    "    vec_json[game_id]['img'] = game_data.get('cover_image_url', None)  # add cover image URL if available\n",
    "\n",
    "with open('game_vecs.json', 'w') as f:\n",
    "    json.dump(vec_json, f, indent=4)"
   ]
  },
  {
   "cell_type": "markdown",
   "id": "a3331301",
   "metadata": {},
   "source": [
    "### Multi-modal Encoding"
   ]
  },
  {
   "cell_type": "code",
   "execution_count": null,
   "id": "8223cac1",
   "metadata": {},
   "outputs": [],
   "source": [
    "# import image via url to process\n",
    "import requests\n",
    "from PIL import Image\n",
    "from io import BytesIO\n",
    "\n",
    "def url2Img(url, MAX_WIDTH=128, MAX_HEIGHT=128):\n",
    "    ''' Converts an image URL to a PIL Image after resizing it to MAX_WIDTH and MAX_HEIGHT '''\n",
    "    response = requests.get(url)\n",
    "    if response.status_code != 200:\n",
    "        print(f\"Error: {response.status_code} - {response.text}\")\n",
    "        return None\n",
    "    \n",
    "    img = Image.open(BytesIO(response.content))\n",
    "    #resize to MAX_WIDTH x MAX_HEIGHT\n",
    "    img = img.resize((MAX_WIDTH, MAX_HEIGHT), Image.Resampling.LANCZOS)\n",
    "    return img\n",
    "\n",
    "# convert the cover images to numpy arrays\n",
    "def convert_images_to_arrays(dat):\n",
    "    img_arrays = {}\n",
    "    for game_id, game_data in dat.items():\n",
    "        if 'cover_image_url' in game_data and game_data['cover_image_url']:\n",
    "            img = url2Img(game_data['cover_image_url'])\n",
    "            if img is not None:\n",
    "                img_array = np.array(img)\n",
    "                img_arrays[game_id] = img_array\n",
    "    return img_arrays\n",
    "\n",
    "# create the image dataset\n",
    "X_imgs = convert_images_to_arrays(json_data)\n",
    "X_ratings = {game_id: game_data.get('rating', 0) for game_id, game_data in json_data.items()}"
   ]
  },
  {
   "cell_type": "code",
   "execution_count": null,
   "id": "b5a2b759",
   "metadata": {},
   "outputs": [],
   "source": [
    "# --- Parameters ---\n",
    "bow_dim = len(bow)        # input size of BoW\n",
    "image_shape = (128, 128, 3)\n",
    "encoding_dim = 1024     # final embedding size\n",
    "\n",
    "# --- Inputs ---\n",
    "text_input = Input(shape=(bow_dim,), name='text_input')\n",
    "image_input = Input(shape=image_shape, name='image_input')\n",
    "float_input = Input(shape=(1,), name='float_input')\n",
    "\n",
    "# --- Text Encoder (BoW -> Dense) ---\n",
    "text_encoded = Dense(512, activation='relu')(text_input)\n",
    "\n",
    "# --- Image Encoder (Simple CNN) ---\n",
    "x = Conv2D(32, (3,3), activation='relu')(image_input)\n",
    "x = MaxPooling2D((2,2))(x)\n",
    "x = Conv2D(64, (3,3), activation='relu')(x)\n",
    "x = MaxPooling2D((2,2))(x)\n",
    "x = Flatten()(x)\n",
    "image_encoded = Dense(256, activation='relu')(x)\n",
    "\n",
    "# --- Float Encoder (Dense) ---\n",
    "float_encoded = Dense(32, activation='relu')(float_input)\n",
    "\n",
    "# --- Merge and Final Encoding ---\n",
    "merged = Concatenate()([text_encoded, image_encoded, float_encoded])\n",
    "final_encoding = Dense(encoding_dim, activation='relu', name='embedding')(merged)\n",
    "\n",
    "# --- Model ---\n",
    "multi_input_encoder = Model(inputs=[text_input, image_input, float_input],\n",
    "                            outputs=final_encoding)\n",
    "multi_input_encoder.compile(optimizer='adam', loss='mse')"
   ]
  },
  {
   "cell_type": "code",
   "execution_count": null,
   "id": "9c9cc47e",
   "metadata": {},
   "outputs": [],
   "source": [
    "# train the model\n",
    "multi_input_encoder.compile(optimizer='adam', loss='mse')\n",
    "X_train_image = np.array([X_imgs[game_id] for game_id in json_data.keys() if game_id in X_imgs])\n",
    "X_train_float = np.array([X_ratings[game_id] for game_id in json_data.keys() if game_id in X_ratings])\n",
    "X_train_text = np.array([X[game_id] for game_id in json_data.keys() if game_id in X])\n",
    "multi_input_encoder.fit([X_train_text, X_train_image, X_train_float],\n",
    "                        X_train_text,  # using text as target for simplicity\n",
    "                        epochs=50, batch_size=256, shuffle=True)\n"
   ]
  }
 ],
 "metadata": {
  "kernelspec": {
   "display_name": "mcss",
   "language": "python",
   "name": "python3"
  },
  "language_info": {
   "codemirror_mode": {
    "name": "ipython",
    "version": 3
   },
   "file_extension": ".py",
   "mimetype": "text/x-python",
   "name": "python",
   "nbconvert_exporter": "python",
   "pygments_lexer": "ipython3",
   "version": "3.12.10"
  }
 },
 "nbformat": 4,
 "nbformat_minor": 5
}
